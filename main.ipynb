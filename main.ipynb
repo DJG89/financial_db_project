{
 "cells": [
  {
   "cell_type": "code",
   "execution_count": 5,
   "id": "92784b29",
   "metadata": {},
   "outputs": [
    {
     "name": "stdout",
     "output_type": "stream",
     "text": [
      "input a stock ticker: duol\n",
      "how many years of data do you want for DUOL?4\n",
      "Preparing to retrieve data..\n",
      "Gathering data..\n"
     ]
    },
    {
     "data": {
      "text/plain": [
       "\"\\n\\nYou've got to make 3 different functions:\\n1) to get company info\\n2) to get income statement\\n3) to get balance sheet\\n\\nFigure this out and you're basically done\\n\\n\""
      ]
     },
     "execution_count": 5,
     "metadata": {},
     "output_type": "execute_result"
    }
   ],
   "source": [
    "import requests\n",
    "import pandas as pd\n",
    "import json\n",
    "import time\n",
    "import sqlite3\n",
    "\n",
    "# need the key to access the api\n",
    "api_key = ''\n",
    "api_key=open('my_api_key.txt', 'r').read()\n",
    "\n",
    "# the company you want to get data for\n",
    "company = input(\"input a stock ticker: \")\n",
    "company = company.upper()\n",
    "\n",
    "years = input(f\"how many years of data do you want for {company}?\")\n",
    "\n",
    "print('Preparing to retrieve data..')\n",
    "time.sleep(3)\n",
    "print(\"Gathering data..\")\n",
    "\n",
    "'''\n",
    "You've got to make 3 different functions:\n",
    "1) to get company info - done\n",
    "2) to get income statement \n",
    "3) to get balance sheet - done\n",
    "'''\n",
    "\n",
    "def get_company_profile():\n",
    "    pass\n",
    "\n",
    "def get_income_statement():\n",
    "    pass\n",
    "\n",
    "def get_balance_sheet():\n",
    "    pass"
   ]
  },
  {
   "cell_type": "code",
   "execution_count": null,
   "id": "e4951bbe",
   "metadata": {},
   "outputs": [],
   "source": []
  }
 ],
 "metadata": {
  "kernelspec": {
   "display_name": "Python 3 (ipykernel)",
   "language": "python",
   "name": "python3"
  },
  "language_info": {
   "codemirror_mode": {
    "name": "ipython",
    "version": 3
   },
   "file_extension": ".py",
   "mimetype": "text/x-python",
   "name": "python",
   "nbconvert_exporter": "python",
   "pygments_lexer": "ipython3",
   "version": "3.9.12"
  }
 },
 "nbformat": 4,
 "nbformat_minor": 5
}
