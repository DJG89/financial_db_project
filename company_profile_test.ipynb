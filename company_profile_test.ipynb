{
 "cells": [
  {
   "cell_type": "code",
   "execution_count": 1,
   "id": "122f7ece",
   "metadata": {},
   "outputs": [
    {
     "name": "stdout",
     "output_type": "stream",
     "text": [
      "getting data from web..please wait\n",
      "finishing..\n",
      "done. data collected for you to view\n"
     ]
    }
   ],
   "source": [
    "import requests\n",
    "import pandas as pd\n",
    "import json\n",
    "import time\n",
    "import sqlite3\n",
    "\n",
    "api_key = ''\n",
    "\n",
    "api_key=open('my_api_key.txt', 'r').read()\n",
    "company = \"TSM\"\n",
    "\n",
    "print(\"getting data from web..please wait\")\n",
    "time.sleep(3)\n",
    "\n",
    "# link to company profile api\n",
    "response = requests.get(f\"https://financialmodelingprep.com/api/v3/profile/{company}?apikey={api_key}\")\n",
    "data = response.json()\n",
    "new_data= json.dumps(data)\n",
    "df=pd.read_json(new_data)\n",
    "desired_columns = ['symbol', 'companyName', 'sector', 'industry', 'country']\n",
    "\n",
    "final_df = df[desired_columns]\n",
    "\n",
    "print(\"finishing..\")\n",
    "time.sleep(3)\n",
    "\n",
    "print(\"done. data collected for you to view\")"
   ]
  },
  {
   "cell_type": "code",
   "execution_count": 2,
   "id": "26081da4",
   "metadata": {},
   "outputs": [
    {
     "data": {
      "text/html": [
       "<div>\n",
       "<style scoped>\n",
       "    .dataframe tbody tr th:only-of-type {\n",
       "        vertical-align: middle;\n",
       "    }\n",
       "\n",
       "    .dataframe tbody tr th {\n",
       "        vertical-align: top;\n",
       "    }\n",
       "\n",
       "    .dataframe thead th {\n",
       "        text-align: right;\n",
       "    }\n",
       "</style>\n",
       "<table border=\"1\" class=\"dataframe\">\n",
       "  <thead>\n",
       "    <tr style=\"text-align: right;\">\n",
       "      <th></th>\n",
       "      <th>symbol</th>\n",
       "      <th>companyName</th>\n",
       "      <th>sector</th>\n",
       "      <th>industry</th>\n",
       "      <th>country</th>\n",
       "    </tr>\n",
       "  </thead>\n",
       "  <tbody>\n",
       "    <tr>\n",
       "      <th>0</th>\n",
       "      <td>CPNG</td>\n",
       "      <td>Coupang, Inc.</td>\n",
       "      <td>Consumer Cyclical</td>\n",
       "      <td>Internet Retail</td>\n",
       "      <td>US</td>\n",
       "    </tr>\n",
       "  </tbody>\n",
       "</table>\n",
       "</div>"
      ],
      "text/plain": [
       "  symbol    companyName             sector         industry country\n",
       "0   CPNG  Coupang, Inc.  Consumer Cyclical  Internet Retail      US"
      ]
     },
     "execution_count": 2,
     "metadata": {},
     "output_type": "execute_result"
    }
   ],
   "source": [
    "final_df.head()"
   ]
  },
  {
   "cell_type": "code",
   "execution_count": 3,
   "id": "73e18e06",
   "metadata": {},
   "outputs": [
    {
     "data": {
      "text/plain": [
       "1"
      ]
     },
     "execution_count": 3,
     "metadata": {},
     "output_type": "execute_result"
    }
   ],
   "source": [
    "# send the df to fake sql database\n",
    "conn = sqlite3.connect('fake_data.db')\n",
    "c = conn.cursor()\n",
    "\n",
    "final_df.to_sql('Company', conn, if_exists='append', index = False)"
   ]
  },
  {
   "cell_type": "code",
   "execution_count": null,
   "id": "d72c9fc1",
   "metadata": {},
   "outputs": [],
   "source": []
  }
 ],
 "metadata": {
  "kernelspec": {
   "display_name": "Python 3 (ipykernel)",
   "language": "python",
   "name": "python3"
  },
  "language_info": {
   "codemirror_mode": {
    "name": "ipython",
    "version": 3
   },
   "file_extension": ".py",
   "mimetype": "text/x-python",
   "name": "python",
   "nbconvert_exporter": "python",
   "pygments_lexer": "ipython3",
   "version": "3.9.12"
  }
 },
 "nbformat": 4,
 "nbformat_minor": 5
}
