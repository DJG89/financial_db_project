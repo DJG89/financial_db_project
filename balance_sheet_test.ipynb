{
 "cells": [
  {
   "cell_type": "code",
   "execution_count": 1,
   "metadata": {},
   "outputs": [
    {
     "name": "stdout",
     "output_type": "stream",
     "text": [
      "getting data from web..please wait\n",
      "displaying data momentarily..\n",
      "done. data collected for you to view\n"
     ]
    }
   ],
   "source": [
    "import requests\n",
    "import pandas as pd\n",
    "import json\n",
    "import time\n",
    "import sqlite3\n",
    "\n",
    "api_key = ''\n",
    "\n",
    "api_key=open('my_api_key.txt', 'r').read()\n",
    "company = \"TSM\"\n",
    "\n",
    "years = 30\n",
    "\n",
    "print(\"getting data from web..please wait\")\n",
    "time.sleep(3)\n",
    "\n",
    "# link to balance sheet api\n",
    "response = requests.get(f\"https://financialmodelingprep.com/api/v3/balance-sheet-statement/{company}?apikey={api_key}&limit=120\")\n",
    "data = response.json()\n",
    "\n",
    "new_data= json.dumps(data)\n",
    "\n",
    "df=pd.read_json(new_data)\n",
    "\n",
    "print(\"displaying data momentarily..\")\n",
    "time.sleep(3)\n",
    "df.head()\n",
    "\n",
    "print(\"done. data collected for you to view\")\n",
    "\n"
   ]
  },
  {
   "cell_type": "code",
   "execution_count": 2,
   "metadata": {},
   "outputs": [],
   "source": [
    "columns_i_want = ['calendarYear',\n",
    "                  'symbol',\n",
    "                 'totalAssets',\n",
    "                 'totalLiabilities',\n",
    "                 'netReceivables',\n",
    "                 'retainedEarnings',\n",
    "                 'totalStockholdersEquity',\n",
    "                 'cashAndCashEquivalents']"
   ]
  },
  {
   "cell_type": "code",
   "execution_count": 3,
   "metadata": {},
   "outputs": [],
   "source": [
    "new_df = df[columns_i_want]\n",
    "new_df_2 = new_df.copy()"
   ]
  },
  {
   "cell_type": "code",
   "execution_count": 4,
   "metadata": {},
   "outputs": [],
   "source": [
    "new_df_2['ROA_ratio'] = new_df_2['totalAssets'].div(new_df_2['totalLiabilities'].values)"
   ]
  },
  {
   "cell_type": "code",
   "execution_count": 6,
   "metadata": {},
   "outputs": [
    {
     "data": {
      "text/html": [
       "<div>\n",
       "<style scoped>\n",
       "    .dataframe tbody tr th:only-of-type {\n",
       "        vertical-align: middle;\n",
       "    }\n",
       "\n",
       "    .dataframe tbody tr th {\n",
       "        vertical-align: top;\n",
       "    }\n",
       "\n",
       "    .dataframe thead th {\n",
       "        text-align: right;\n",
       "    }\n",
       "</style>\n",
       "<table border=\"1\" class=\"dataframe\">\n",
       "  <thead>\n",
       "    <tr style=\"text-align: right;\">\n",
       "      <th></th>\n",
       "      <th>calendarYear</th>\n",
       "      <th>symbol</th>\n",
       "      <th>totalAssets</th>\n",
       "      <th>totalLiabilities</th>\n",
       "      <th>netReceivables</th>\n",
       "      <th>retainedEarnings</th>\n",
       "      <th>totalStockholdersEquity</th>\n",
       "      <th>cashAndCashEquivalents</th>\n",
       "      <th>ROA_ratio</th>\n",
       "    </tr>\n",
       "  </thead>\n",
       "  <tbody>\n",
       "    <tr>\n",
       "      <th>0</th>\n",
       "      <td>2021</td>\n",
       "      <td>TSM</td>\n",
       "      <td>3725302200000</td>\n",
       "      <td>1573619700000</td>\n",
       "      <td>198362900000</td>\n",
       "      <td>1887802900000</td>\n",
       "      <td>2149259800000</td>\n",
       "      <td>1064990200000</td>\n",
       "      <td>2.367346</td>\n",
       "    </tr>\n",
       "    <tr>\n",
       "      <th>1</th>\n",
       "      <td>2020</td>\n",
       "      <td>TSM</td>\n",
       "      <td>2760600500000</td>\n",
       "      <td>924836700000</td>\n",
       "      <td>146089000000</td>\n",
       "      <td>1573840100000</td>\n",
       "      <td>1834811300000</td>\n",
       "      <td>660170600000</td>\n",
       "      <td>2.984960</td>\n",
       "    </tr>\n",
       "    <tr>\n",
       "      <th>2</th>\n",
       "      <td>2019</td>\n",
       "      <td>TSM</td>\n",
       "      <td>2264725000000</td>\n",
       "      <td>650337700000</td>\n",
       "      <td>139822300000</td>\n",
       "      <td>1325630400000</td>\n",
       "      <td>1613705600000</td>\n",
       "      <td>455399300000</td>\n",
       "      <td>3.482383</td>\n",
       "    </tr>\n",
       "    <tr>\n",
       "      <th>3</th>\n",
       "      <td>2018</td>\n",
       "      <td>TSM</td>\n",
       "      <td>2090031200000</td>\n",
       "      <td>428926100000</td>\n",
       "      <td>129262800000</td>\n",
       "      <td>1360258900000</td>\n",
       "      <td>1660428800000</td>\n",
       "      <td>577814600000</td>\n",
       "      <td>4.872707</td>\n",
       "    </tr>\n",
       "    <tr>\n",
       "      <th>4</th>\n",
       "      <td>2017</td>\n",
       "      <td>TSM</td>\n",
       "      <td>1991732000000</td>\n",
       "      <td>497285500000</td>\n",
       "      <td>122488400000</td>\n",
       "      <td>1205051300000</td>\n",
       "      <td>1493746800000</td>\n",
       "      <td>553391700000</td>\n",
       "      <td>4.005208</td>\n",
       "    </tr>\n",
       "  </tbody>\n",
       "</table>\n",
       "</div>"
      ],
      "text/plain": [
       "   calendarYear symbol    totalAssets  totalLiabilities  netReceivables  \\\n",
       "0          2021    TSM  3725302200000     1573619700000    198362900000   \n",
       "1          2020    TSM  2760600500000      924836700000    146089000000   \n",
       "2          2019    TSM  2264725000000      650337700000    139822300000   \n",
       "3          2018    TSM  2090031200000      428926100000    129262800000   \n",
       "4          2017    TSM  1991732000000      497285500000    122488400000   \n",
       "\n",
       "   retainedEarnings  totalStockholdersEquity  cashAndCashEquivalents  \\\n",
       "0     1887802900000            2149259800000           1064990200000   \n",
       "1     1573840100000            1834811300000            660170600000   \n",
       "2     1325630400000            1613705600000            455399300000   \n",
       "3     1360258900000            1660428800000            577814600000   \n",
       "4     1205051300000            1493746800000            553391700000   \n",
       "\n",
       "   ROA_ratio  \n",
       "0   2.367346  \n",
       "1   2.984960  \n",
       "2   3.482383  \n",
       "3   4.872707  \n",
       "4   4.005208  "
      ]
     },
     "execution_count": 6,
     "metadata": {},
     "output_type": "execute_result"
    }
   ],
   "source": [
    "new_df_2.head(10)"
   ]
  },
  {
   "cell_type": "code",
   "execution_count": 7,
   "metadata": {},
   "outputs": [
    {
     "data": {
      "text/plain": [
       "5"
      ]
     },
     "execution_count": 7,
     "metadata": {},
     "output_type": "execute_result"
    }
   ],
   "source": [
    "# populate sql database\n",
    "conn = sqlite3.connect('fake_data.db')\n",
    "c = conn.cursor()\n",
    "\n",
    "new_df_2.to_sql('Balance_Sheet', conn, if_exists='append', index = False)"
   ]
  },
  {
   "cell_type": "code",
   "execution_count": null,
   "metadata": {},
   "outputs": [],
   "source": []
  }
 ],
 "metadata": {
  "kernelspec": {
   "display_name": "Python 3 (ipykernel)",
   "language": "python",
   "name": "python3"
  },
  "language_info": {
   "codemirror_mode": {
    "name": "ipython",
    "version": 3
   },
   "file_extension": ".py",
   "mimetype": "text/x-python",
   "name": "python",
   "nbconvert_exporter": "python",
   "pygments_lexer": "ipython3",
   "version": "3.9.12"
  }
 },
 "nbformat": 4,
 "nbformat_minor": 2
}
